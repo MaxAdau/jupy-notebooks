{
 "cells": [
  {
   "cell_type": "markdown",
   "metadata": {},
   "source": [
    "## My game of life\n",
    "\n",
    "Ok, it's been a while since I wanted to implement a game fo life, but lack of time and motivation were against me.\n",
    "I have both right now so ... let's do this a pythonic way !\n",
    "\n",
    "### What is the game of life ?\n",
    "\n",
    "It is a cellular automation, designed by Conway in 1970\n",
    "More info here : https://en.wikipedia.org/wiki/Conway%27s_Game_of_Life\n",
    "\n",
    "### Rules of the game :\n",
    "- A cell can be either dead or alive\n",
    "- Any live cell with two or three neighbors survives\n",
    "- Any dead cell with three live neighbors becomes a live cell\n",
    "- All other live cells die in the next generation. Similarly, all other dead cells stay dead."
   ]
  },
  {
   "cell_type": "code",
   "execution_count": 77,
   "metadata": {},
   "outputs": [],
   "source": [
    "import tkinter as tk\n",
    "\n",
    "# Default variables\n",
    "default_width=720\n",
    "default_heigth=720\n",
    "default_cellsize=40\n",
    "\n",
    "# Variable calculated from default ones\n",
    "nbr_cell_width = int(default_width / default_cellsize)\n",
    "nbr_cell_heigth = int(default_heigth / default_cellsize)\n",
    "\n",
    "# Instanciation of the main windows\n",
    "root = tk.Tk()\n",
    "root.title(\"My game of life ! \\0/\")\n",
    "\n",
    "# Instanciation of the frame on which the canvas will be added\n",
    "# pack() organizes widgets in blocks before placing them in the parent widget\n",
    "# Without it, the main windows will remain at default size\n",
    "# https://www.tutorialspoint.com/python/tk_pack.htm\n",
    "frame = tk.Frame(root, width=default_width, height=default_heigth)\n",
    "frame.pack()\n",
    "\n",
    "# Instanciation of the Canvas\n",
    "# The Canvas widget provides structured graphics facilities for Tkinter\n",
    "canvas = tk.Canvas(frame, width=default_width, height=default_heigth)\n",
    "canvas.pack()\n",
    "\n",
    "# Loop in X then Y and draw rectangles\n",
    "for j in range(0, nbr_cell_heigth):\n",
    "    y1 = j * default_cellsize\n",
    "    y2 = j * default_cellsize + default_cellsize\n",
    "    for i in range(0, nbr_cell_width):\n",
    "        x1 = i * default_cellsize\n",
    "        x2 = i * default_cellsize + default_cellsize\n",
    "        canvas.create_rectangle(x1, y1, x2, y2, fill='white')\n",
    "\n",
    "\n",
    "# create_grid()\n",
    "root.mainloop()"
   ]
  }
 ],
 "metadata": {
  "kernelspec": {
   "display_name": "Python 3",
   "language": "python",
   "name": "python3"
  },
  "language_info": {
   "codemirror_mode": {
    "name": "ipython",
    "version": 3
   },
   "file_extension": ".py",
   "mimetype": "text/x-python",
   "name": "python",
   "nbconvert_exporter": "python",
   "pygments_lexer": "ipython3",
   "version": "3.7.4"
  }
 },
 "nbformat": 4,
 "nbformat_minor": 2
}
