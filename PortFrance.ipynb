{
 "cells": [
  {
   "cell_type": "code",
   "execution_count": 397,
   "metadata": {},
   "outputs": [],
   "source": [
    "# Les ressources qui vont bien \n",
    "# https://pandas.pydata.org/pandas-docs/stable/user_guide/visualization.html\n",
    "# https://pandas.pydata.org/pandas-docs/stable/reference/frame.html\n",
    "# https://medium.com/jbennetcodes/dealing-with-datetimes-like-a-pro-in-pandas-b80d3d808a7f\n",
    "# https://stackoverflow.com/questions/22898824/filtering-pandas-dataframes-on-dates\n",
    "\n",
    "# Always import python libraries before any others\n",
    "# This is a convention\n",
    "from pathlib import Path\n",
    "\n",
    "import pandas as pd\n",
    "import matplotlib.pyplot as plt\n",
    "\n",
    "# Commande magique permettant d'utiliser matplotline de \n",
    "# génerer les graph dans jupyter\n",
    "%matplotlib inline\n",
    "\n",
    "\n",
    "# Load dataset using pandas\n",
    "data_path = Path(\"C:/Users/MarieEtMax/jupy-notebooks/data/transportmaritime.csv\")\n",
    "df = pd.read_csv(data_path, sep=\";\")\n",
    "\n",
    "# maintenant qu'on a nos données, on a envie de les cleaner un peu\n",
    "# On retire les éventuelles lignes avec des valeurs manquantes\n",
    "df.dropna(inplace=True)\n",
    "\n",
    "# Par simplification, on renomme une des colonnes\n",
    "df = df.rename(columns={'nb_passagers':'nb_pass'}, index={'CIVITA VECCHIA':'Civita Vecchia'})\n",
    "\n",
    "# Puis on change le type str de la clonne date vers un vrai type de date !\n",
    "df['date'] = pd.to_datetime(df['date'])\n",
    "\n",
    "# Puis on vire les float pour en faire des int\n",
    "df['nb_pass'] = df['nb_pass'].astype(int)\n",
    "\n"
   ]
  },
  {
   "cell_type": "code",
   "execution_count": 374,
   "metadata": {},
   "outputs": [],
   "source": [
    "# Ici, on compte le nombre de passager par port et par année !\n",
    "\n",
    "# Les deux fonctions qui suivent sont relativement équivalentes\n",
    "# type(df.groupby(['port', 'date']).agg({'sum'}, axis='index').sort_values(by=('nb_pass', 'sum'), ascending=False))\n",
    "\n",
    "graph2 = df.groupby(['port', 'date']).sum().sort_values(by='nb_pass', ascending=False)"
   ]
  },
  {
   "cell_type": "code",
   "execution_count": 400,
   "metadata": {
    "scrolled": true
   },
   "outputs": [
    {
     "name": "stdout",
     "output_type": "stream",
     "text": [
      "                nb_pass\n",
      "port                   \n",
      "Ajaccio         4729301\n",
      "Bastia          9825369\n",
      "Bonifacio       1032079\n",
      "Civita Vecchia     7494\n",
      "Calvi            717501\n",
      "Genes            741383\n",
      "Golgo Aranci        423\n",
      "L'Ile Rousse    1494099\n",
      "Livourne        2557411\n",
      "Marseille       3983198\n",
      "Nice            3777730\n",
      "Palau                 0\n",
      "Piombino          35207\n",
      "Porto Ferraio         0\n",
      "Porto Torres      32050\n",
      "Porto-Vecchio    497385\n",
      "Propriano        407659\n",
      "Santa Teresa    1032169\n",
      "Savona          1310298\n",
      "Toulon          5224998\n"
     ]
    },
    {
     "data": {
      "text/plain": [
       "<BarContainer object of 20 artists>"
      ]
     },
     "execution_count": 400,
     "metadata": {},
     "output_type": "execute_result"
    },
    {
     "data": {
      "image/png": "[encoded data removed]",
      "text/plain": [
       "<Figure size 432x288 with 1 Axes>"
      ]
     },
     "metadata": {
      "needs_background": "light"
     },
     "output_type": "display_data"
    }
   ],
   "source": [
    "# Ici, je veux un graphique en histogramme me montrant :\n",
    "# le total cumulé de tous les passagers de ces 10 dernières années\n",
    "\n",
    "# On commence par choper uniquement les 10 dernières années\n",
    "# Pas compris comment on utilise les pd.tseries.offsets.YearBegin(10)\n",
    "graph1 = df[(df['date'] > '2009.1.1')]\n",
    "\n",
    "# On chope la somme de tous les passagers, puis on vire le upper case de merde\n",
    "graph1 = graph1[['port', 'nb_pass']].groupby(['port']).sum()\n",
    "graph1.rename(index={'CIVITA VECCHIA':'Civita Vecchia'}, inplace=True)\n",
    "\n",
    "print(graph1)\n",
    "\n",
    "# Petit tricks https://re-thought.com/how-to-suppress-scientific-notation-in-pandas/\n",
    "\n",
    "plt.xticks(rotation=80)\n",
    "plt.bar(graph1.index.tolist(), height=graph1.nb_pass)\n",
    "#graph1.plot.bar(width=0.7)\n"
   ]
  },
  {
   "cell_type": "code",
   "execution_count": 303,
   "metadata": {},
   "outputs": [],
   "source": [
    "# Ici, je veux un graphique qui montre l'évolution des passagers, avec :\n",
    "# les ports en index, le nombre de passagers en y, les années en x"
   ]
  },
  {
   "cell_type": "code",
   "execution_count": 157,
   "metadata": {},
   "outputs": [
    {
     "ename": "TypeError",
     "evalue": "'>' not supported between instances of 'str' and 'YearBegin'",
     "output_type": "error",
     "traceback": [
      "\u001b[1;31m---------------------------------------------------------------------------\u001b[0m",
      "\u001b[1;31mTypeError\u001b[0m                                 Traceback (most recent call last)",
      "\u001b[1;32m<ipython-input-157-04303e246dab>\u001b[0m in \u001b[0;36m<module>\u001b[1;34m\u001b[0m\n\u001b[0;32m      3\u001b[0m \u001b[1;33m\u001b[0m\u001b[0m\n\u001b[0;32m      4\u001b[0m \u001b[1;31m#print(df['date'])\u001b[0m\u001b[1;33m\u001b[0m\u001b[1;33m\u001b[0m\u001b[1;33m\u001b[0m\u001b[0m\n\u001b[1;32m----> 5\u001b[1;33m \u001b[0mdf\u001b[0m\u001b[1;33m[\u001b[0m\u001b[1;33m(\u001b[0m\u001b[1;34m'date'\u001b[0m \u001b[1;33m>\u001b[0m \u001b[0mpd\u001b[0m\u001b[1;33m.\u001b[0m\u001b[0mtseries\u001b[0m\u001b[1;33m.\u001b[0m\u001b[0moffsets\u001b[0m\u001b[1;33m.\u001b[0m\u001b[0mYearBegin\u001b[0m\u001b[1;33m(\u001b[0m\u001b[1;36m10\u001b[0m\u001b[1;33m)\u001b[0m\u001b[1;33m)\u001b[0m\u001b[1;33m]\u001b[0m\u001b[1;33m\u001b[0m\u001b[1;33m\u001b[0m\u001b[0m\n\u001b[0m\u001b[0;32m      6\u001b[0m \u001b[1;31m#pd.tseries.offsets.YearBegin(10)\u001b[0m\u001b[1;33m\u001b[0m\u001b[1;33m\u001b[0m\u001b[1;33m\u001b[0m\u001b[0m\n",
      "\u001b[1;31mTypeError\u001b[0m: '>' not supported between instances of 'str' and 'YearBegin'"
     ]
    }
   ],
   "source": [
    "#start_date = df['date'] - pd.tseries.offsets.YearBegin(5)\n",
    "#print(start_date)\n",
    "\n",
    "#print(df['date'])\n",
    "df[('date' > pd.tseries.offsets.YearBegin(10))]\n",
    "#pd.tseries.offsets.YearBegin(10)"
   ]
  },
  {
   "cell_type": "code",
   "execution_count": null,
   "metadata": {},
   "outputs": [],
   "source": []
  }
 ],
 "metadata": {
  "kernelspec": {
   "display_name": "Python 3",
   "language": "python",
   "name": "python3"
  },
  "language_info": {
   "codemirror_mode": {
    "name": "ipython",
    "version": 3
   },
   "file_extension": ".py",
   "mimetype": "text/x-python",
   "name": "python",
   "nbconvert_exporter": "python",
   "pygments_lexer": "ipython3",
   "version": "3.7.4"
  }
 },
 "nbformat": 4,
 "nbformat_minor": 2
}
